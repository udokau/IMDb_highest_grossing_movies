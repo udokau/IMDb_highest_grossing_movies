{
 "cells": [
  {
   "cell_type": "code",
   "execution_count": 1,
   "id": "20cf1bfa",
   "metadata": {},
   "outputs": [],
   "source": [
    "import requests\n",
    "from bs4 import BeautifulSoup\n",
    "import pandas as pd\n",
    "import numpy as np"
   ]
  },
  {
   "cell_type": "code",
   "execution_count": 2,
   "id": "72c43222",
   "metadata": {},
   "outputs": [],
   "source": [
    "url = 'https://www.imdb.com/list/ls560585364/'\n",
    "response = requests.get('https://www.imdb.com/list/ls560585364/')\n",
    "content = response.content\n",
    "soup = BeautifulSoup(content,'html.parser')"
   ]
  },
  {
   "cell_type": "code",
   "execution_count": 3,
   "id": "cd7d8417",
   "metadata": {},
   "outputs": [],
   "source": [
    "box = soup.find('div',class_=\"lister-list\").find_all('div',class_=\"lister-item mode-detail\")"
   ]
  },
  {
   "cell_type": "code",
   "execution_count": 4,
   "id": "04552e96",
   "metadata": {},
   "outputs": [],
   "source": [
    "data = []\n",
    "for movie in box:\n",
    "\n",
    "        name = movie.find('h3',class_=\"lister-item-header\").a.text\n",
    "        \n",
    "        genre = movie.find('span',class_=\"genre\").get_text(strip=True).split(',')[0]\n",
    "        \n",
    "        rating = movie.find('span',class_ = \"ipl-rating-star__rating\").text\n",
    "        \n",
    "        amount = movie.find('div',class_=\"list-description\").p.text.split('\\n')[-1].split(' ')[2:][0]\n",
    "        \n",
    "        data.append([name,genre,rating,amount])"
   ]
  },
  {
   "cell_type": "code",
   "execution_count": 5,
   "id": "4a5eee00",
   "metadata": {},
   "outputs": [],
   "source": [
    "#put data into a dataframe\n",
    "box = pd.DataFrame(data, columns = ['name','genre','rating','amount'])"
   ]
  },
  {
   "cell_type": "code",
   "execution_count": 6,
   "id": "7f04c2d5",
   "metadata": {},
   "outputs": [
    {
     "data": {
      "text/html": [
       "<div>\n",
       "<style scoped>\n",
       "    .dataframe tbody tr th:only-of-type {\n",
       "        vertical-align: middle;\n",
       "    }\n",
       "\n",
       "    .dataframe tbody tr th {\n",
       "        vertical-align: top;\n",
       "    }\n",
       "\n",
       "    .dataframe thead th {\n",
       "        text-align: right;\n",
       "    }\n",
       "</style>\n",
       "<table border=\"1\" class=\"dataframe\">\n",
       "  <thead>\n",
       "    <tr style=\"text-align: right;\">\n",
       "      <th></th>\n",
       "      <th>name</th>\n",
       "      <th>genre</th>\n",
       "      <th>rating</th>\n",
       "      <th>amount</th>\n",
       "    </tr>\n",
       "  </thead>\n",
       "  <tbody>\n",
       "    <tr>\n",
       "      <th>0</th>\n",
       "      <td>Avatar: The Way of Water</td>\n",
       "      <td>Action</td>\n",
       "      <td>7.6</td>\n",
       "      <td>$2,320,250,281</td>\n",
       "    </tr>\n",
       "    <tr>\n",
       "      <th>1</th>\n",
       "      <td>Top Gun: Maverick</td>\n",
       "      <td>Action</td>\n",
       "      <td>8.3</td>\n",
       "      <td>$1,495,696,292</td>\n",
       "    </tr>\n",
       "    <tr>\n",
       "      <th>2</th>\n",
       "      <td>Jurassic World Dominion</td>\n",
       "      <td>Action</td>\n",
       "      <td>5.6</td>\n",
       "      <td>$1,003,775,632</td>\n",
       "    </tr>\n",
       "    <tr>\n",
       "      <th>3</th>\n",
       "      <td>Doctor Strange in the Multiverse of Madness</td>\n",
       "      <td>Action</td>\n",
       "      <td>6.9</td>\n",
       "      <td>$955,775,804</td>\n",
       "    </tr>\n",
       "    <tr>\n",
       "      <th>4</th>\n",
       "      <td>Minions: The Rise of Gru</td>\n",
       "      <td>Animation</td>\n",
       "      <td>6.5</td>\n",
       "      <td>$939,628,210</td>\n",
       "    </tr>\n",
       "    <tr>\n",
       "      <th>...</th>\n",
       "      <td>...</td>\n",
       "      <td>...</td>\n",
       "      <td>...</td>\n",
       "      <td>...</td>\n",
       "    </tr>\n",
       "    <tr>\n",
       "      <th>92</th>\n",
       "      <td>Armageddon Time</td>\n",
       "      <td>Drama</td>\n",
       "      <td>6.5</td>\n",
       "      <td>$6,538,858</td>\n",
       "    </tr>\n",
       "    <tr>\n",
       "      <th>93</th>\n",
       "      <td>Crimes of the Future</td>\n",
       "      <td>Drama</td>\n",
       "      <td>5.9</td>\n",
       "      <td>$4,551,565</td>\n",
       "    </tr>\n",
       "    <tr>\n",
       "      <th>94</th>\n",
       "      <td>Vengeance</td>\n",
       "      <td>Comedy</td>\n",
       "      <td>6.8</td>\n",
       "      <td>$4,370,536</td>\n",
       "    </tr>\n",
       "    <tr>\n",
       "      <th>95</th>\n",
       "      <td>Spoiler Alert</td>\n",
       "      <td>Comedy</td>\n",
       "      <td>7.3</td>\n",
       "      <td>$1,434,869</td>\n",
       "    </tr>\n",
       "    <tr>\n",
       "      <th>96</th>\n",
       "      <td>The Inspection</td>\n",
       "      <td>Drama</td>\n",
       "      <td>6.7</td>\n",
       "      <td>$406,644</td>\n",
       "    </tr>\n",
       "  </tbody>\n",
       "</table>\n",
       "<p>97 rows × 4 columns</p>\n",
       "</div>"
      ],
      "text/plain": [
       "                                           name      genre rating  \\\n",
       "0                      Avatar: The Way of Water     Action    7.6   \n",
       "1                             Top Gun: Maverick     Action    8.3   \n",
       "2                       Jurassic World Dominion     Action    5.6   \n",
       "3   Doctor Strange in the Multiverse of Madness     Action    6.9   \n",
       "4                      Minions: The Rise of Gru  Animation    6.5   \n",
       "..                                          ...        ...    ...   \n",
       "92                              Armageddon Time      Drama    6.5   \n",
       "93                         Crimes of the Future      Drama    5.9   \n",
       "94                                    Vengeance     Comedy    6.8   \n",
       "95                                Spoiler Alert     Comedy    7.3   \n",
       "96                               The Inspection      Drama    6.7   \n",
       "\n",
       "            amount  \n",
       "0   $2,320,250,281  \n",
       "1   $1,495,696,292  \n",
       "2   $1,003,775,632  \n",
       "3     $955,775,804  \n",
       "4     $939,628,210  \n",
       "..             ...  \n",
       "92      $6,538,858  \n",
       "93      $4,551,565  \n",
       "94      $4,370,536  \n",
       "95      $1,434,869  \n",
       "96        $406,644  \n",
       "\n",
       "[97 rows x 4 columns]"
      ]
     },
     "execution_count": 6,
     "metadata": {},
     "output_type": "execute_result"
    }
   ],
   "source": [
    "box"
   ]
  },
  {
   "cell_type": "code",
   "execution_count": 7,
   "id": "36bdb9af",
   "metadata": {},
   "outputs": [],
   "source": [
    "#save as csv file\n",
    "box.to_csv('box.csv')"
   ]
  }
 ],
 "metadata": {
  "kernelspec": {
   "display_name": "Python 3 (ipykernel)",
   "language": "python",
   "name": "python3"
  },
  "language_info": {
   "codemirror_mode": {
    "name": "ipython",
    "version": 3
   },
   "file_extension": ".py",
   "mimetype": "text/x-python",
   "name": "python",
   "nbconvert_exporter": "python",
   "pygments_lexer": "ipython3",
   "version": "3.9.13"
  }
 },
 "nbformat": 4,
 "nbformat_minor": 5
}
